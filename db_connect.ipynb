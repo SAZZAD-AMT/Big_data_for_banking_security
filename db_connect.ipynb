{
 "cells": [
  {
   "cell_type": "code",
   "execution_count": 17,
   "id": "eccf49a5",
   "metadata": {},
   "outputs": [
    {
     "name": "stdout",
     "output_type": "stream",
     "text": [
      "Tables in BankMT.db:\n",
      "MTBANK\n",
      "Tables in BankNH.db:\n",
      "sqlite_sequence\n",
      "NEWBANK\n",
      "NEW\n",
      "NEWB\n",
      "NEWT\n"
     ]
    }
   ],
   "source": [
    "import sqlite3\n",
    "\n",
    "def list_tables(db_path):\n",
    "    conn = sqlite3.connect(db_path)\n",
    "    cursor = conn.cursor()\n",
    "    \n",
    "    # Get all tables\n",
    "    cursor.execute(\"SELECT name FROM sqlite_master WHERE type='table';\")\n",
    "    tables = cursor.fetchall()\n",
    "    \n",
    "    print(f\"Tables in {db_path}:\")\n",
    "    for table in tables:\n",
    "        print(table[0])\n",
    "    \n",
    "    conn.close()\n",
    "\n",
    "# Example usage\n",
    "list_tables(\"BankMT.db\")\n",
    "list_tables(\"BankNH.db\")"
   ]
  },
  {
   "cell_type": "code",
   "execution_count": 18,
   "id": "d1c4bcae",
   "metadata": {},
   "outputs": [
    {
     "name": "stdout",
     "output_type": "stream",
     "text": [
      "\n",
      "--- MTBANK in BankMT.db ---\n",
      "Empty DataFrame\n",
      "Columns: [TYPE, AMOUNT, SENDER, SENDEROLDBAL, SENDERNEWBAL, RECEIVER, RECOLDBAL, RECNEWBAL]\n",
      "Index: []\n",
      "\n",
      "--- NEWBANK in BankNH.db ---\n",
      "      ID   USERNAME FIRSTNAME LASTNAME              EMAIL      PASSWORD  \\\n",
      "0     14   kokomnia   afolabi   sunday      afo@yahoo.com  afolabi12345   \n",
      "1     16     lappy1   afolabi   sunday      afo@gmail.com         12345   \n",
      "2     17     DFGHJK   DFGHJKL  DFGHJKL            DFGHJK@         12345   \n",
      "3     18    afolabi    sunday   sunday  afolabi@yahoo.com      12345678   \n",
      "4     19        afo  afsdfghj   dfghjk   dfghjk@yahoo.com    har4labi01   \n",
      "..   ...        ...       ...      ...                ...           ...   \n",
      "209  225  usman@990  muhammad    usman    usman@gmail.com      usman123   \n",
      "210  226   abbas123     Abbas   Abbasi         abbas@1234      abbas786   \n",
      "211  227     sazzad    sazzad   hossen       sd@gmail.com      ssazzadd   \n",
      "212  228     sazzad   Sazzad    Hossen   sazzad@gmail.com        sazzad   \n",
      "213  229       amit      amit      sha     amit@gmail.com          amit   \n",
      "\n",
      "          CONFIRM        PHONE   SEX     ADDRESS      BAL  \n",
      "0    afolabi12345  08132930957  male      molete   2000.0  \n",
      "1           12345  08132930957  male      moniya   4000.0  \n",
      "2           12345  12345678902  MALE      MONIYA   5000.0  \n",
      "3        12345678  12345678912  male     afolabi      NaN  \n",
      "4      har4labi01  08132930957  male     dfghjkl      NaN  \n",
      "..            ...          ...   ...         ...      ...  \n",
      "209      usman123  03321223121  male   liaqatpur   1500.0  \n",
      "210      abbas786  03321998001  male  bahawalpur  10046.0  \n",
      "211      ssazzadd  01256892523  Male       Dhaka      NaN  \n",
      "212        sazzad  01865569365  Male       Dhaka      NaN  \n",
      "213          amit  01745456123  Male       Dhaka      NaN  \n",
      "\n",
      "[214 rows x 11 columns]\n"
     ]
    }
   ],
   "source": [
    "import sqlite3\n",
    "import pandas as pd  # Optional (for pretty printing)\n",
    "\n",
    "def view_table(db_path, table_name):\n",
    "    conn = sqlite3.connect(db_path)\n",
    "    \n",
    "    # Get data into a pandas DataFrame (for clean display)\n",
    "    df = pd.read_sql(f\"SELECT * FROM {table_name}\", conn)\n",
    "    \n",
    "    print(f\"\\n--- {table_name} in {db_path} ---\")\n",
    "    print(df)\n",
    "    \n",
    "    conn.close()\n",
    "\n",
    "# View MTBANK table (BankMT.db)\n",
    "view_table(\"BankMT.db\", \"MTBANK\")\n",
    "\n",
    "# View NEWBANK table (BankNR.db)\n",
    "view_table(\"BankNH.db\", \"NEWBANK\")"
   ]
  },
  {
   "cell_type": "code",
   "execution_count": 8,
   "id": "e5f9923c",
   "metadata": {},
   "outputs": [
    {
     "name": "stdout",
     "output_type": "stream",
     "text": [
      "\n",
      "MTBANK Columns:\n",
      "TYPE\n",
      "AMOUNT\n",
      "SENDER\n",
      "SENDEROLDBAL\n",
      "SENDERNEWBAL\n",
      "RECEIVER\n",
      "RECOLDBAL\n",
      "RECNEWBAL\n",
      "\n",
      "Last 5 Transactions:\n"
     ]
    }
   ],
   "source": [
    "def analyze_mtbank():\n",
    "    conn = sqlite3.connect(\"BankMT.db\")\n",
    "    cursor = conn.cursor()\n",
    "    \n",
    "    # Get column names\n",
    "    cursor.execute(\"PRAGMA table_info(MTBANK)\")\n",
    "    columns = cursor.fetchall()\n",
    "    print(\"\\nMTBANK Columns:\")\n",
    "    for col in columns:\n",
    "        print(col[1])  # Column names\n",
    "    \n",
    "    # Example: List last 5 transactions\n",
    "    cursor.execute(\"SELECT * FROM MTBANK ORDER BY ROWID DESC LIMIT 5\")\n",
    "    print(\"\\nLast 5 Transactions:\")\n",
    "    for row in cursor.fetchall():\n",
    "        print(row)\n",
    "    \n",
    "    conn.close()\n",
    "\n",
    "analyze_mtbank()"
   ]
  },
  {
   "cell_type": "code",
   "execution_count": 19,
   "id": "84941717",
   "metadata": {},
   "outputs": [
    {
     "name": "stdout",
     "output_type": "stream",
     "text": [
      "Exported NEWBANK to NEWBANK.csv\n"
     ]
    },
    {
     "ename": "DatabaseError",
     "evalue": "Execution failed on sql 'SELECT * FROM MTBANK': no such table: MTBANK",
     "output_type": "error",
     "traceback": [
      "\u001b[31m---------------------------------------------------------------------------\u001b[39m",
      "\u001b[31mOperationalError\u001b[39m                          Traceback (most recent call last)",
      "\u001b[36mFile \u001b[39m\u001b[32mc:\\Users\\sazza\\AppData\\Local\\Programs\\Python\\Python312\\Lib\\site-packages\\pandas\\io\\sql.py:2674\u001b[39m, in \u001b[36mSQLiteDatabase.execute\u001b[39m\u001b[34m(self, sql, params)\u001b[39m\n\u001b[32m   2673\u001b[39m \u001b[38;5;28;01mtry\u001b[39;00m:\n\u001b[32m-> \u001b[39m\u001b[32m2674\u001b[39m     \u001b[43mcur\u001b[49m\u001b[43m.\u001b[49m\u001b[43mexecute\u001b[49m\u001b[43m(\u001b[49m\u001b[43msql\u001b[49m\u001b[43m,\u001b[49m\u001b[43m \u001b[49m\u001b[43m*\u001b[49m\u001b[43margs\u001b[49m\u001b[43m)\u001b[49m\n\u001b[32m   2675\u001b[39m     \u001b[38;5;28;01mreturn\u001b[39;00m cur\n",
      "\u001b[31mOperationalError\u001b[39m: no such table: MTBANK",
      "\nThe above exception was the direct cause of the following exception:\n",
      "\u001b[31mDatabaseError\u001b[39m                             Traceback (most recent call last)",
      "\u001b[36mCell\u001b[39m\u001b[36m \u001b[39m\u001b[32mIn[19]\u001b[39m\u001b[32m, line 13\u001b[39m\n\u001b[32m     11\u001b[39m \u001b[38;5;66;03m# Export data (modify table names as needed)\u001b[39;00m\n\u001b[32m     12\u001b[39m export_to_csv(\u001b[33m\"\u001b[39m\u001b[33mBankNH.db\u001b[39m\u001b[33m\"\u001b[39m, \u001b[33m\"\u001b[39m\u001b[33mNEWBANK\u001b[39m\u001b[33m\"\u001b[39m) \n\u001b[32m---> \u001b[39m\u001b[32m13\u001b[39m \u001b[43mexport_to_csv\u001b[49m\u001b[43m(\u001b[49m\u001b[33;43m\"\u001b[39;49m\u001b[33;43mMTBank.db\u001b[39;49m\u001b[33;43m\"\u001b[39;49m\u001b[43m,\u001b[49m\u001b[43m \u001b[49m\u001b[33;43m\"\u001b[39;49m\u001b[33;43mMTBANK\u001b[39;49m\u001b[33;43m\"\u001b[39;49m\u001b[43m)\u001b[49m   \n",
      "\u001b[36mCell\u001b[39m\u001b[36m \u001b[39m\u001b[32mIn[19]\u001b[39m\u001b[32m, line 6\u001b[39m, in \u001b[36mexport_to_csv\u001b[39m\u001b[34m(db_path, table_name)\u001b[39m\n\u001b[32m      4\u001b[39m \u001b[38;5;250m\u001b[39m\u001b[33;03m\"\"\"Export a table to CSV\"\"\"\u001b[39;00m\n\u001b[32m      5\u001b[39m conn = sqlite3.connect(db_path)\n\u001b[32m----> \u001b[39m\u001b[32m6\u001b[39m df = \u001b[43mpd\u001b[49m\u001b[43m.\u001b[49m\u001b[43mread_sql\u001b[49m\u001b[43m(\u001b[49m\u001b[33;43mf\u001b[39;49m\u001b[33;43m\"\u001b[39;49m\u001b[33;43mSELECT * FROM \u001b[39;49m\u001b[38;5;132;43;01m{\u001b[39;49;00m\u001b[43mtable_name\u001b[49m\u001b[38;5;132;43;01m}\u001b[39;49;00m\u001b[33;43m\"\u001b[39;49m\u001b[43m,\u001b[49m\u001b[43m \u001b[49m\u001b[43mconn\u001b[49m\u001b[43m)\u001b[49m\n\u001b[32m      7\u001b[39m df.to_csv(\u001b[33mf\u001b[39m\u001b[33m\"\u001b[39m\u001b[38;5;132;01m{\u001b[39;00mtable_name\u001b[38;5;132;01m}\u001b[39;00m\u001b[33m.csv\u001b[39m\u001b[33m\"\u001b[39m, index=\u001b[38;5;28;01mFalse\u001b[39;00m)\n\u001b[32m      8\u001b[39m conn.close()\n",
      "\u001b[36mFile \u001b[39m\u001b[32mc:\\Users\\sazza\\AppData\\Local\\Programs\\Python\\Python312\\Lib\\site-packages\\pandas\\io\\sql.py:706\u001b[39m, in \u001b[36mread_sql\u001b[39m\u001b[34m(sql, con, index_col, coerce_float, params, parse_dates, columns, chunksize, dtype_backend, dtype)\u001b[39m\n\u001b[32m    704\u001b[39m \u001b[38;5;28;01mwith\u001b[39;00m pandasSQL_builder(con) \u001b[38;5;28;01mas\u001b[39;00m pandas_sql:\n\u001b[32m    705\u001b[39m     \u001b[38;5;28;01mif\u001b[39;00m \u001b[38;5;28misinstance\u001b[39m(pandas_sql, SQLiteDatabase):\n\u001b[32m--> \u001b[39m\u001b[32m706\u001b[39m         \u001b[38;5;28;01mreturn\u001b[39;00m \u001b[43mpandas_sql\u001b[49m\u001b[43m.\u001b[49m\u001b[43mread_query\u001b[49m\u001b[43m(\u001b[49m\n\u001b[32m    707\u001b[39m \u001b[43m            \u001b[49m\u001b[43msql\u001b[49m\u001b[43m,\u001b[49m\n\u001b[32m    708\u001b[39m \u001b[43m            \u001b[49m\u001b[43mindex_col\u001b[49m\u001b[43m=\u001b[49m\u001b[43mindex_col\u001b[49m\u001b[43m,\u001b[49m\n\u001b[32m    709\u001b[39m \u001b[43m            \u001b[49m\u001b[43mparams\u001b[49m\u001b[43m=\u001b[49m\u001b[43mparams\u001b[49m\u001b[43m,\u001b[49m\n\u001b[32m    710\u001b[39m \u001b[43m            \u001b[49m\u001b[43mcoerce_float\u001b[49m\u001b[43m=\u001b[49m\u001b[43mcoerce_float\u001b[49m\u001b[43m,\u001b[49m\n\u001b[32m    711\u001b[39m \u001b[43m            \u001b[49m\u001b[43mparse_dates\u001b[49m\u001b[43m=\u001b[49m\u001b[43mparse_dates\u001b[49m\u001b[43m,\u001b[49m\n\u001b[32m    712\u001b[39m \u001b[43m            \u001b[49m\u001b[43mchunksize\u001b[49m\u001b[43m=\u001b[49m\u001b[43mchunksize\u001b[49m\u001b[43m,\u001b[49m\n\u001b[32m    713\u001b[39m \u001b[43m            \u001b[49m\u001b[43mdtype_backend\u001b[49m\u001b[43m=\u001b[49m\u001b[43mdtype_backend\u001b[49m\u001b[43m,\u001b[49m\n\u001b[32m    714\u001b[39m \u001b[43m            \u001b[49m\u001b[43mdtype\u001b[49m\u001b[43m=\u001b[49m\u001b[43mdtype\u001b[49m\u001b[43m,\u001b[49m\n\u001b[32m    715\u001b[39m \u001b[43m        \u001b[49m\u001b[43m)\u001b[49m\n\u001b[32m    717\u001b[39m     \u001b[38;5;28;01mtry\u001b[39;00m:\n\u001b[32m    718\u001b[39m         _is_table_name = pandas_sql.has_table(sql)\n",
      "\u001b[36mFile \u001b[39m\u001b[32mc:\\Users\\sazza\\AppData\\Local\\Programs\\Python\\Python312\\Lib\\site-packages\\pandas\\io\\sql.py:2738\u001b[39m, in \u001b[36mSQLiteDatabase.read_query\u001b[39m\u001b[34m(self, sql, index_col, coerce_float, parse_dates, params, chunksize, dtype, dtype_backend)\u001b[39m\n\u001b[32m   2727\u001b[39m \u001b[38;5;28;01mdef\u001b[39;00m \u001b[34mread_query\u001b[39m(\n\u001b[32m   2728\u001b[39m     \u001b[38;5;28mself\u001b[39m,\n\u001b[32m   2729\u001b[39m     sql,\n\u001b[32m   (...)\u001b[39m\u001b[32m   2736\u001b[39m     dtype_backend: DtypeBackend | Literal[\u001b[33m\"\u001b[39m\u001b[33mnumpy\u001b[39m\u001b[33m\"\u001b[39m] = \u001b[33m\"\u001b[39m\u001b[33mnumpy\u001b[39m\u001b[33m\"\u001b[39m,\n\u001b[32m   2737\u001b[39m ) -> DataFrame | Iterator[DataFrame]:\n\u001b[32m-> \u001b[39m\u001b[32m2738\u001b[39m     cursor = \u001b[38;5;28;43mself\u001b[39;49m\u001b[43m.\u001b[49m\u001b[43mexecute\u001b[49m\u001b[43m(\u001b[49m\u001b[43msql\u001b[49m\u001b[43m,\u001b[49m\u001b[43m \u001b[49m\u001b[43mparams\u001b[49m\u001b[43m)\u001b[49m\n\u001b[32m   2739\u001b[39m     columns = [col_desc[\u001b[32m0\u001b[39m] \u001b[38;5;28;01mfor\u001b[39;00m col_desc \u001b[38;5;129;01min\u001b[39;00m cursor.description]\n\u001b[32m   2741\u001b[39m     \u001b[38;5;28;01mif\u001b[39;00m chunksize \u001b[38;5;129;01mis\u001b[39;00m \u001b[38;5;129;01mnot\u001b[39;00m \u001b[38;5;28;01mNone\u001b[39;00m:\n",
      "\u001b[36mFile \u001b[39m\u001b[32mc:\\Users\\sazza\\AppData\\Local\\Programs\\Python\\Python312\\Lib\\site-packages\\pandas\\io\\sql.py:2686\u001b[39m, in \u001b[36mSQLiteDatabase.execute\u001b[39m\u001b[34m(self, sql, params)\u001b[39m\n\u001b[32m   2683\u001b[39m     \u001b[38;5;28;01mraise\u001b[39;00m ex \u001b[38;5;28;01mfrom\u001b[39;00m \u001b[34;01minner_exc\u001b[39;00m\n\u001b[32m   2685\u001b[39m ex = DatabaseError(\u001b[33mf\u001b[39m\u001b[33m\"\u001b[39m\u001b[33mExecution failed on sql \u001b[39m\u001b[33m'\u001b[39m\u001b[38;5;132;01m{\u001b[39;00msql\u001b[38;5;132;01m}\u001b[39;00m\u001b[33m'\u001b[39m\u001b[33m: \u001b[39m\u001b[38;5;132;01m{\u001b[39;00mexc\u001b[38;5;132;01m}\u001b[39;00m\u001b[33m\"\u001b[39m)\n\u001b[32m-> \u001b[39m\u001b[32m2686\u001b[39m \u001b[38;5;28;01mraise\u001b[39;00m ex \u001b[38;5;28;01mfrom\u001b[39;00m \u001b[34;01mexc\u001b[39;00m\n",
      "\u001b[31mDatabaseError\u001b[39m: Execution failed on sql 'SELECT * FROM MTBANK': no such table: MTBANK"
     ]
    }
   ],
   "source": [
    "import pandas as pd\n",
    "\n",
    "def export_to_csv(db_path, table_name):\n",
    "    \"\"\"Export a table to CSV\"\"\"\n",
    "    conn = sqlite3.connect(db_path)\n",
    "    df = pd.read_sql(f\"SELECT * FROM {table_name}\", conn)\n",
    "    df.to_csv(f\"{table_name}.csv\", index=False)\n",
    "    conn.close()\n",
    "    print(f\"Exported {table_name} to {table_name}.csv\")\n",
    "\n",
    "# Export data (modify table names as needed)\n",
    "export_to_csv(\"BankNH.db\", \"NEWBANK\") \n",
    "export_to_csv(\"MTBank.db\", \"MTBANK\")   "
   ]
  },
  {
   "cell_type": "code",
   "execution_count": 8,
   "id": "2842f101",
   "metadata": {},
   "outputs": [
    {
     "name": "stdout",
     "output_type": "stream",
     "text": [
      "(230, 'john_doe', 'John', 'Doe', 'john.doe@newmail.com', 'secure123', 'secure123', '1234567890', 'Male', '456 New Ave', 1500.0)\n"
     ]
    }
   ],
   "source": [
    "import sqlite3\n",
    "conn = sqlite3.connect(\"BankNH.db\")\n",
    "cur = conn.cursor()\n",
    "a = cur.execute(\"SELECT * FROM NEWBANK WHERE USERNAME = 'john_doe'\")\n",
    "result = a.fetchall()  # This fetches all matching rows\n",
    "for row in result:\n",
    "    print(row)\n",
    "conn.close()\n"
   ]
  },
  {
   "cell_type": "code",
   "execution_count": null,
   "id": "52e137f5",
   "metadata": {},
   "outputs": [
    {
     "name": "stdout",
     "output_type": "stream",
     "text": [
      "Account created successfully!\n"
     ]
    }
   ],
   "source": [
    "import sqlite3\n",
    "\n",
    "def create_account(username, firstname, lastname, email, password, \n",
    "                   phone, sex, address, initial_balance):\n",
    "    conn = sqlite3.connect(\"BankNH.db\")\n",
    "    cur = conn.cursor()\n",
    "    \n",
    "    cur.execute(\"\"\"\n",
    "        INSERT INTO NEWBANK (USERNAME, FIRSTNAME, LASTNAME, EMAIL, PASSWORD, \n",
    "                             CONFIRM, PHONE, SEX, ADDRESS, BAL)\n",
    "        VALUES (?, ?, ?, ?, ?, ?, ?, ?, ?, ?)\n",
    "    \"\"\", (username, firstname, lastname, email, password, \n",
    "          password, phone, sex, address, float(initial_balance)))\n",
    "    \n",
    "    conn.commit()\n",
    "    conn.close()\n",
    "    print(\"Account created successfully!\")\n",
    "\n",
    "#insert and create account\n",
    "create_account(\"john_doe\", \"John\", \"Doe\", \"john@example.com\", \"secure123\", \n",
    "               \"1234567890\", \"Male\", \"123 Main St\", 1000.0)\n"
   ]
  },
  {
   "cell_type": "code",
   "execution_count": 7,
   "id": "484630e4",
   "metadata": {},
   "outputs": [
    {
     "name": "stdout",
     "output_type": "stream",
     "text": [
      "Account updated successfully!\n"
     ]
    }
   ],
   "source": [
    "import sqlite3\n",
    "\n",
    "def update_account(username, new_email=None, new_address=None, new_balance=None):\n",
    "    with sqlite3.connect(\"BankNH.db\", timeout=10) as conn:\n",
    "        cur = conn.cursor()\n",
    "\n",
    "        # Build the update query dynamically based on which values are provided\n",
    "        updates = []\n",
    "        values = []\n",
    "\n",
    "        if new_email:\n",
    "            updates.append(\"EMAIL = ?\")\n",
    "            values.append(new_email)\n",
    "        if new_address:\n",
    "            updates.append(\"ADDRESS = ?\")\n",
    "            values.append(new_address)\n",
    "        if new_balance is not None:\n",
    "            updates.append(\"BAL = ?\")\n",
    "            values.append(float(new_balance))\n",
    "\n",
    "        if updates:\n",
    "            update_query = f\"UPDATE NEWBANK SET {', '.join(updates)} WHERE USERNAME = ?\"\n",
    "            values.append(username)\n",
    "\n",
    "            cur.execute(update_query, values)\n",
    "            conn.commit()\n",
    "            print(\"Account updated successfully!\")\n",
    "        else:\n",
    "            print(\"No updates provided.\")\n",
    "\n",
    "# ✅ Example usage\n",
    "update_account(\"john_doe\", new_email=\"john.doe@newmail.com\", new_address=\"456 New Ave\", new_balance=1500.0)\n"
   ]
  }
 ],
 "metadata": {
  "kernelspec": {
   "display_name": "Python 3",
   "language": "python",
   "name": "python3"
  },
  "language_info": {
   "codemirror_mode": {
    "name": "ipython",
    "version": 3
   },
   "file_extension": ".py",
   "mimetype": "text/x-python",
   "name": "python",
   "nbconvert_exporter": "python",
   "pygments_lexer": "ipython3",
   "version": "3.12.5"
  }
 },
 "nbformat": 4,
 "nbformat_minor": 5
}
